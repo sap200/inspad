{
 "cells": [
  {
   "cell_type": "markdown",
   "id": "9e8b2df2-b340-4d23-9527-1bec07b73ab9",
   "metadata": {},
   "source": [
    "## Our Prompt\n",
    "You are a helpful assistant that takes an image caption, generates an edit instruction, and then produces a modified caption based on the edit.\n",
    "\n",
    "Caption 1: A beach with palm trees and clear blue water\n",
    "Caption 2: A city street with cars and people walking\n",
    "Caption 3: A dog lying on the grass\n",
    "\n",
    "\n",
    "\n",
    "Please respond with the following format for each caption:\n",
    "Edit 1: ...\n",
    "Output 1: ...\n",
    "Edit 2: ...\n",
    "Output 2: ...\n",
    "Edit 3: ...\n",
    "Output 3: ...\n"
   ]
  },
  {
   "cell_type": "code",
   "execution_count": 1,
   "id": "55421840-7078-4860-98a9-1c43f9fa7d9a",
   "metadata": {},
   "outputs": [],
   "source": [
    "BATCH_SIZE = 6\n"
   ]
  },
  {
   "cell_type": "code",
   "execution_count": 2,
   "id": "fb17de3c-54e8-4162-970a-cd1e6aef8482",
   "metadata": {},
   "outputs": [
    {
     "name": "stdout",
     "output_type": "stream",
     "text": [
      "Successfully wrote batched fine-tuning file to batched_prompts_finetune_data.jsonl\n"
     ]
    }
   ],
   "source": [
    "import json\n",
    "\n",
    "BATCH_SIZE = 6\n",
    "INPUT_FILE = \"caption_edit_triplets.json\"\n",
    "OUTPUT_FILE = \"batched_prompts_finetune_data.jsonl\"\n",
    "\n",
    "with open(INPUT_FILE, \"r\", encoding=\"utf-8\") as f:\n",
    "    data = json.load(f)\n",
    "\n",
    "def make_batch(batch, batch_num):\n",
    "    messages = []\n",
    "    \n",
    "    # System message\n",
    "    messages.append({\n",
    "        \"role\": \"system\",\n",
    "        \"content\": \"You are an image caption editor assistant. For each input, generate an edit instruction and the updated output caption.\"\n",
    "    })\n",
    "\n",
    "    # User message (batched input captions)\n",
    "    user_lines = [f\"Input {i+1}: {item['input_caption']}\" for i, item in enumerate(batch)]\n",
    "    messages.append({\n",
    "        \"role\": \"user\",\n",
    "        \"content\": \"\\n\".join(user_lines)\n",
    "    })\n",
    "\n",
    "    # Assistant message (batched instructions and output captions)\n",
    "    assistant_lines = [\n",
    "        f\"Edit {i+1}: {item['edit_instruction']}\\nOutput {i+1}: {item['output_caption']}\"\n",
    "        for i, item in enumerate(batch)\n",
    "    ]\n",
    "    messages.append({\n",
    "        \"role\": \"assistant\",\n",
    "        \"content\": \"\\n\\n\".join(assistant_lines)\n",
    "    })\n",
    "\n",
    "    return {\"messages\": messages}\n",
    "\n",
    "# Write batched output\n",
    "with open(OUTPUT_FILE, \"w\", encoding=\"utf-8\") as f:\n",
    "    for i in range(0, len(data), BATCH_SIZE):\n",
    "        batch = data[i:i + BATCH_SIZE]\n",
    "        json.dump(make_batch(batch, i // BATCH_SIZE + 1), f)\n",
    "        f.write(\"\\n\")\n",
    "\n",
    "print(f\"Successfully wrote batched fine-tuning file to {OUTPUT_FILE}\")\n"
   ]
  },
  {
   "cell_type": "markdown",
   "id": "e8c3a3a4-4dd9-4d25-a10f-7d8ca32c7bbd",
   "metadata": {},
   "source": [
    "# Make calls to OpenAI"
   ]
  },
  {
   "cell_type": "code",
   "execution_count": 2,
   "id": "8238ae0f-c319-43b5-a161-dc417fdc01fb",
   "metadata": {},
   "outputs": [],
   "source": [
    "import threading\n",
    "from concurrent.futures import ThreadPoolExecutor"
   ]
  },
  {
   "cell_type": "code",
   "execution_count": 3,
   "id": "39a60b6c-749e-4edc-849a-e0f27f4ff696",
   "metadata": {},
   "outputs": [],
   "source": [
    "import openai\n",
    "openai.api_key = \"<<secret-key-gpt>>\""
   ]
  },
  {
   "cell_type": "code",
   "execution_count": 4,
   "id": "8da8128e-dcfd-49a1-a625-0265078bafba",
   "metadata": {},
   "outputs": [],
   "source": [
    "fine_tuned_model_batch = \"ft:gpt-3.5-turbo-0125:<<model-name>>\""
   ]
  },
  {
   "cell_type": "code",
   "execution_count": 5,
   "id": "16af4636-78b7-4d68-aca1-13d94f0d24f1",
   "metadata": {},
   "outputs": [],
   "source": [
    "import json\n",
    "import re\n",
    "\n",
    "def save_records(result, out_file_name):\n",
    "    with open(out_file_name, \"a\", encoding=\"utf-8\") as f:\n",
    "        for record in result:\n",
    "            f.write(json.dumps(record, ensure_ascii=False) + \"\\n\")\n",
    "    \n",
    "def parse_gpt_response_to_json(input_captions, response_text, file_name, thread_id):\n",
    "    results = []\n",
    "    edits = re.findall(r'Edit \\d+:\\s*(.*)', response_text)\n",
    "    outputs = re.findall(r'Output \\d+:\\s*(.*)', response_text)\n",
    "    for i in range(len(input_captions)):\n",
    "        if i < len(edits) and i < len(outputs):\n",
    "            results.append({\n",
    "                \"input_caption\": input_captions[i],\n",
    "                \"edit_instruction\": edits[i],\n",
    "                \"output_caption\": outputs[i]\n",
    "            })\n",
    "\n",
    "    if len(results) != 0:\n",
    "        out_file_name = f'{file_name}-thread{thread_id}.json'\n",
    "        save_records(results, out_file_name)\n",
    "\n",
    "        \n",
    "\n",
    "\n",
    "    "
   ]
  },
  {
   "cell_type": "code",
   "execution_count": 6,
   "id": "8e95e20a-7856-422f-95c5-2a760c3614b4",
   "metadata": {},
   "outputs": [],
   "source": [
    "def batch_list(lst, chunk_size):\n",
    "    \"\"\"Split a list into chunks of a specific size.\"\"\"\n",
    "    return [lst[i:i + chunk_size] for i in range(0, len(lst), chunk_size)]"
   ]
  },
  {
   "cell_type": "code",
   "execution_count": 7,
   "id": "03bef6dd-1cbe-47c3-8c38-040223ed43a7",
   "metadata": {},
   "outputs": [],
   "source": [
    "def execute_prompt(captions, thread_id):\n",
    "    batches = batch_list(captions, BATCH_SIZE)\n",
    "\n",
    "    for batch in batches:\n",
    "        prompt = []\n",
    "        prompt.append({\n",
    "            \"role\": \"system\",\n",
    "            \"content\": \"You are an image caption editor assistant. For each input, generate an edit instruction and the updated output caption.\"\n",
    "        })\n",
    "        prompt_lines = [f'Input {i+1}: {caption}' for i, caption in enumerate(batch)]\n",
    "        prompt.append({\n",
    "          \"role\": \"user\",  \n",
    "          \"content\": '\\n'.join(prompt_lines)\n",
    "        })\n",
    "    \n",
    "        response = openai.chat.completions.create(\n",
    "                model=fine_tuned_model_batch,\n",
    "                messages=prompt,\n",
    "                temperature=0.7,\n",
    "                max_tokens=200\n",
    "            )\n",
    "        \n",
    "        reply = response.choices[0].message.content\n",
    "        parse_gpt_response_to_json(batch, reply, 'gpt-prompt-result-1',thread_id)\n",
    "    \n",
    "    \n",
    "        "
   ]
  },
  {
   "cell_type": "code",
   "execution_count": 8,
   "id": "242c9fdb-c20c-4a19-b17d-4f07f924407b",
   "metadata": {},
   "outputs": [],
   "source": [
    "# a = [\n",
    "#     \"A beach with palm trees and clear blue water\",\n",
    "#     \"A city street with cars and people walking\",\n",
    "#     \"A cat sitting on a windowsill looking outside\",\n",
    "#     \"A beach with palm trees and skyscraper in the background\",\n",
    "#     \"A moonlight painting by pablo picasso\",\n",
    "#     \"A scenic view of rome during rainy season\",\n",
    "#     \"A scenic dick of rome during rainy season\",\n",
    "# ]\n",
    "\n",
    "# execute_prompt(a, 1)\n"
   ]
  },
  {
   "cell_type": "code",
   "execution_count": 9,
   "id": "9d988a17-2dfd-4156-98d2-68ce836f34f8",
   "metadata": {},
   "outputs": [],
   "source": [
    "def split_chunks(data, n):\n",
    "    avg = len(data) // n\n",
    "    return [data[i * avg: (i + 1) * avg] if i < n - 1 else data[i * avg:] for i in range(n)]"
   ]
  },
  {
   "cell_type": "code",
   "execution_count": 10,
   "id": "4b97fae3-f4f4-4594-8e2a-107b4440e261",
   "metadata": {},
   "outputs": [
    {
     "name": "stdout",
     "output_type": "stream",
     "text": [
      "['Amazing Oil Painting by South Indian Legend Ilaiyaraaja (6)', 'Harold Roth - Forest Avenue, The Bronx, 1937 - Howard Greenberg Gallery', 'Anthony Bourdain on Food Porn, YouTube Stars and His Intolerance of Gluten-Free Diets | Adweek', 'Panoramic view of famous Hallstatt lakeside town during winter sunrise on a beautiful cold sunny day at Christmas time, Salzkammergut, Austria', 'Flooding Painting - Storm Malta by John or Giovanni Schranz', 'The church of St. Andrew on the Vuoksa River, Russia', 'Friedrich & Romanticism pictures Wall Art as Canvas, Acrylic or Metal Print Napoleon I.als Erster Konsul/Ingres', 'Emily Blunt by Peter Lindbergh - More at http://cine-mania.it', 'World War 1 Propaganda Poster Daddy What Did You Do In The Great War? Print by R Muirhead Art', 'Édouard Manet 1832-1883 | French Realist/Impressionist Painter']\n"
     ]
    }
   ],
   "source": [
    "# Load the JSON file with the input prompts, that is downloaded from LAION dataset\n",
    "with open('high-aesthetic-text-urls.json', 'r', encoding='utf-8') as f:\n",
    "    data = json.load(f)\n",
    "\n",
    "# List of input captions\n",
    "input_captions = [entry[\"TEXT\"] for entry in data]\n",
    "\n",
    "print(input_captions[:10])"
   ]
  },
  {
   "cell_type": "code",
   "execution_count": 11,
   "id": "3cfd2dfd-7893-448d-9443-47bccaf422e2",
   "metadata": {},
   "outputs": [],
   "source": [
    "start_index = 8000\n",
    "input_captions = input_captions[start_index:]\n",
    "num_threads = 6\n",
    "chunks = split_chunks(input_captions, num_threads)"
   ]
  },
  {
   "cell_type": "code",
   "execution_count": 12,
   "id": "995c3532-fadd-435f-9eea-25eb09e280e8",
   "metadata": {},
   "outputs": [
    {
     "data": {
      "text/plain": [
       "11166"
      ]
     },
     "execution_count": 12,
     "metadata": {},
     "output_type": "execute_result"
    }
   ],
   "source": [
    "len(chunks[2])"
   ]
  },
  {
   "cell_type": "markdown",
   "id": "f56e14de-eb43-40e1-aacd-0e49392cb828",
   "metadata": {},
   "source": [
    "#### Manual control "
   ]
  },
  {
   "cell_type": "code",
   "execution_count": 13,
   "id": "9481fae2-2c78-493b-9ed3-79f4553bf784",
   "metadata": {},
   "outputs": [],
   "source": [
    "chunks[0] = chunks[0][1100:]\n",
    "chunks[1] = chunks[1][1100:]\n",
    "chunks[2] = chunks[2][1100:]\n",
    "chunks[3] = chunks[3][1100:]\n",
    "chunks[4] = chunks[4][1100:]\n",
    "chunks[5] = chunks[5][1100:]"
   ]
  },
  {
   "cell_type": "code",
   "execution_count": 14,
   "id": "e51a6fbe-48bc-4387-9be6-feb7c54453c6",
   "metadata": {},
   "outputs": [
    {
     "data": {
      "text/plain": [
       "10066"
      ]
     },
     "execution_count": 14,
     "metadata": {},
     "output_type": "execute_result"
    }
   ],
   "source": [
    "len(chunks[0])"
   ]
  },
  {
   "cell_type": "code",
   "execution_count": null,
   "id": "3bbe2489-5ff4-4498-9fb2-c39da9c27c63",
   "metadata": {},
   "outputs": [],
   "source": [
    "with ThreadPoolExecutor(max_workers=num_threads) as executor:\n",
    "    futures = []\n",
    "    offset = start_index\n",
    "    for i, chunk in enumerate(chunks):\n",
    "        futures.append(executor.submit(execute_prompt, chunk, i))\n",
    "\n",
    "    for future in futures:\n",
    "        future.result()"
   ]
  },
  {
   "cell_type": "markdown",
   "id": "a7ec8e06-4841-42f8-bded-d91171dc4485",
   "metadata": {},
   "source": [
    "# Merge the result of thread into one json file"
   ]
  },
  {
   "cell_type": "code",
   "execution_count": 46,
   "id": "0af533c7-bc09-4a5c-847d-c3759c2d63a3",
   "metadata": {},
   "outputs": [],
   "source": [
    "bogus_data = [\n",
    "                \"remove copyright details\",    \n",
    "                \"remove the title and artist information\",\n",
    "                \"remove the artist's name\",\n",
    "                \"remove artist name\",\n",
    "                \"remove the artist name\",\n",
    "                \"remove artist's name\",\n",
    "                \"remove hashtags\",\n",
    "                \"remove the size information\",\n",
    "                \"remove the price\",\n",
    "                \"remove the user tag\",\n",
    "                \"remove the date\",\n",
    "                \"\\\"\",\n",
    "                \"“\",\n",
    "                \"remove the year\",\n",
    "                \"remove the numerical count\",\n",
    "                \"remove the release year\",\n",
    "                \"remove the mention of\",\n",
    "                \"remove the location information\",\n",
    "                \"remove the content keywords\",\n",
    "                \"remove all text and information\",\n",
    "                \"remove the mention of the sequel\",\n",
    "                \"remove the name of the WASP member\",\n",
    "                \"remove the resolution\",\n",
    "                \"remove the version number\",\n",
    "                \"remove the caption text\",\n",
    "                \"remove the tags\",\n",
    "                \"remove the quotation marks\",\n",
    "                \"remove the artist's nationality\",\n",
    "                \"remove the artist’s name\",\n",
    "                \"remove location details\",\n",
    "                \"remove the painter's name\",\n",
    "                \"remove the Item #\",\n",
    "                \"remove the credit line\",\n",
    "                \"remove the photographer’s name\",\n",
    "                \"remove the producer's name\",\n",
    "                \"remove the photographer's name\",\n",
    "                \"remove the stretched canvas print\",\n",
    "                \"remove the dimensions and the artist's name\",\n",
    "                \"remove the image ID at the end\",\n",
    "                \"capitalize the first letter of each word\",\n",
    "                \"change to a large mural\",\n",
    "                \"remove the museum name\",\n",
    "                \"remove resolution specifications\",\n",
    "                \"remove gibberish code\",\n",
    "                \"remove all tags\",\n",
    "                \"remove quotes\",\n",
    "                \"Remove the attribution text\",\n",
    "                \"Remove all hashtags\",\n",
    "                \"Remove the dimensions from the caption\",\n",
    "                \"remove the frame\",\n",
    "                \"remove the location metadata\",\n",
    "                \"remove the URL\",\n",
    "                \"remove the designer's name\",\n",
    "                \"remove the workshop information\",\n",
    "                \"remove the measurement information\",\n",
    "                \"remove the names of the individuals\",\n",
    "                \"remove the source name\",\n",
    "                \"remove the source information\",\n",
    "                \"remove the quotes\",\n",
    "                \"remove the photo credit\",\n",
    "                \"remove the quote attribution\",\n",
    "                \"remove the detailed description\",\n",
    "                \"remove artist’s name\",\n",
    "                \"remove the game title\",\n",
    "                \"remove the source and question\",\n",
    "                \"remove the website\",\n",
    "                \"remove the description\",\n",
    "                \"remove the unnecessary word\",         \n",
    "                \"remove the photographer name\",\n",
    "                \"remove the director and studio names\",\n",
    "                \"remove the gallery name and date\",\n",
    "                \"remove the course information\",\n",
    "                \"remove photographer name\",\n",
    "                \"remove artist information\",\n",
    "                \"remove the text after the title\",\n",
    "                \"remove description\",\n",
    "                \"remove website\",\n",
    "                \"remove the size and date\",\n",
    "                \"remove the dimensions\",\n",
    "                \"remove the photographer name\",\n",
    "                \"remove the photographer credit\",\n",
    "                \"remove text after the first pipe symbol\",\n",
    "                \"remove the attribution information\",\n",
    "                \"remove the non-English title\",\n",
    "                \"remove parentheses and the words\",\n",
    "                \"remove the artist’s nationality\",\n",
    "                \"remove the Pinterest source\",\n",
    "                \"remove the iStock attribution\",\n",
    "                \"remove the stock photo attribution\",\n",
    "                \"remove the photographer attribution\",\n",
    "                \"remove the location description\",\n",
    "                \"remove the Japanese text\",\n",
    "                \"remove the source credit\",\n",
    "                \"Add the information that she became an Expressionist in her later years.\",\n",
    "                \"Remove the last sentence.\",\n",
    "                \"remove the URL\",\n",
    "                \"remove the ellipsis\",\n",
    "                \"remove the text description\",\n",
    "                \"remove the French text\",\n",
    "                \"remove the birth and death years\",\n",
    "                \"remove the HTML tags\",\n",
    "                \"remove the details of the update\",\n",
    "                \"remove the location\",\n",
    "                \"remove the artist nationality\",\n",
    "                \"remove the entire paragraph\",\n",
    "                \"remove the Twitter handle and the text after it\",\n",
    "                \"remove location information\",\n",
    "                \"remove publication information\",\n",
    "                \"remove quotation marks\",\n",
    "                \"remove the copyright information\",\n",
    "                \"remove the movie reference\",\n",
    "                \"remove all text after the colon\",\n",
    "                \"remove the image name and views information\",\n",
    "                \"remove all quotation marks\",\n",
    "                \"remove the text within quotes\",  \n",
    "                \"remove the question\",\n",
    "                \"remove the artist information\",\n",
    "                \"make the caption lowercase and remove the HTML tags\",\n",
    "                \"remove all text\",\n",
    "                \"remove all text\",\n",
    "                \"remove the Pinterest reference\",\n",
    "                \"remove the ID number\",\n",
    "                \"remove the alternative title\",\n",
    "                \"remove fog, mist, and storm\",\n",
    "                \"remove the name of the photographer and the contest details\",\n",
    "                \"remove tags\",\n",
    "                \n",
    "            ]"
   ]
  },
  {
   "cell_type": "code",
   "execution_count": 47,
   "id": "f773256c-3304-45b5-9a57-09f923b4bfca",
   "metadata": {},
   "outputs": [],
   "source": [
    "temp_out_file_names = ['gpt-prompt-result-1.json',\n",
    "                       'gpt-prompt-result-1-thread0.json',\n",
    "                       'gpt-prompt-result-1-thread1.json',\n",
    "                       'gpt-prompt-result-1-thread2.json',\n",
    "                       'gpt-prompt-result-1-thread3.json',\n",
    "                       'gpt-prompt-result-1-thread4.json',\n",
    "                       'gpt-prompt-result-1-thread5.json',\n",
    "                       'batch-gpt-response-thread0.json',    \n",
    "                       'batch-gpt-response-thread1.json',    \n",
    "                       'batch-gpt-response-thread2.json',    \n",
    "                       'batch-gpt-response-thread3.json',    \n",
    "                       'batch-gpt-response-thread4.json',    \n",
    "                       'batch-gpt-response-thread5.json',    \n",
    "                       'batch-gpt-response-thread6.json',    \n",
    "                       'batch-gpt-response-thread7.json',    \n",
    "                      ]\n",
    "\n",
    "merged_records = []\n",
    "\n",
    "\n",
    "idx = 0\n",
    "for file_path in temp_out_file_names:\n",
    "    with open(file_path, \"r\", encoding=\"utf-8\") as f:\n",
    "        for line in f:\n",
    "            line = line.strip()\n",
    "            if not line:\n",
    "                continue\n",
    "            record = json.loads(line)\n",
    "\n",
    "            # control loop for bogus data\n",
    "            flag = False\n",
    "            for b_text in bogus_data:\n",
    "                if b_text.lower() in record['edit_instruction'].lower():\n",
    "                   flag = True\n",
    "                   break\n",
    "\n",
    "            if flag:\n",
    "                continue\n",
    "                \n",
    "            record['id'] = idx\n",
    "            idx = idx+1\n",
    "            merged_records.append(record)\n",
    "\n",
    "# Write to a single well-formatted JSON file\n",
    "with open(\"gpt-prompt-merged-pilot.json\", \"w\", encoding=\"utf-8\") as out_file:\n",
    "    json.dump(merged_records, out_file, ensure_ascii=False, indent=2)"
   ]
  },
  {
   "cell_type": "code",
   "execution_count": 48,
   "id": "f7b80e51-0950-48ee-a5c9-c398bcff470e",
   "metadata": {},
   "outputs": [
    {
     "name": "stdout",
     "output_type": "stream",
     "text": [
      "total prompts:  37790\n"
     ]
    }
   ],
   "source": [
    "print(\"total prompts: \", len(merged_records))"
   ]
  },
  {
   "cell_type": "code",
   "execution_count": null,
   "id": "977e75a4-ced4-4058-8849-32b7b036fb47",
   "metadata": {},
   "outputs": [],
   "source": []
  }
 ],
 "metadata": {
  "kernelspec": {
   "display_name": "Python 3 (ipykernel)",
   "language": "python",
   "name": "python3"
  },
  "language_info": {
   "codemirror_mode": {
    "name": "ipython",
    "version": 3
   },
   "file_extension": ".py",
   "mimetype": "text/x-python",
   "name": "python",
   "nbconvert_exporter": "python",
   "pygments_lexer": "ipython3",
   "version": "3.10.16"
  }
 },
 "nbformat": 4,
 "nbformat_minor": 5
}
